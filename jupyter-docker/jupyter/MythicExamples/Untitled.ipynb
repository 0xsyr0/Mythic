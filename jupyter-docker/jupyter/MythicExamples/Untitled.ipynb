{
 "cells": [
  {
   "cell_type": "code",
   "execution_count": 1,
   "id": "97478eff-84b3-4ce9-ae9b-a747548b1964",
   "metadata": {
    "tags": []
   },
   "outputs": [],
   "source": [
    "from mythic import mythic, mythic_classes"
   ]
  },
  {
   "cell_type": "code",
   "execution_count": 2,
   "id": "d19b0222-6e23-42b3-97c3-d1bbf8d264a9",
   "metadata": {
    "tags": []
   },
   "outputs": [],
   "source": [
    "mythic_instance = await mythic.login(\n",
    "        username=\"mythic_admin\",\n",
    "        password=\"mythic_password\",\n",
    "        server_ip=\"mythic_nginx\",\n",
    "        server_port=7443,\n",
    "        timeout=-1\n",
    "    )"
   ]
  },
  {
   "cell_type": "code",
   "execution_count": 10,
   "id": "bb4e769c-2ca8-44b9-b125-6ab099cbfab9",
   "metadata": {
    "tags": []
   },
   "outputs": [
    {
     "name": "stdout",
     "output_type": "stream",
     "text": [
      "[{'architecture': 'amd64', 'description': 'Created by mythic_admin at 2023-03-24 16:07:20 Z', 'domain': '', 'external_ip': '', 'host': 'SPOOKY.LOCAL', 'id': 62, 'display_id': 49, 'integrity_level': 2, 'ip': '[\"172.16.1.1\",\"192.168.0.129\",\"192.168.229.12\",\"192.168.53.1\",\"fe80::1\",\"fe80::147d:daff:feec:b464\",\"fe80::147d:daff:feec:b465\",\"fe80::1c35:a06e:18f0:73ba\",\"fe80::4c9:feff:fea3:454e\",\"fe80::4c9:feff:fea3:454e\",\"fe80::aede:48ff:fe00:1122\",\"fe80::cadd:3009:47b6:d01b\",\"fe80::ce81:b1c:bd2c:69e\",\"fe80::fab7:d6ad:650e:8c15\"]', 'extra_info': '', 'sleep_info': '', 'pid': 22482, 'os': 'Version 13.0.1 (Build 22A400)', 'user': 'itsafeature', 'agent_callback_id': '63a3d7b2-9102-4756-a31f-ac7e489ac7a9', 'operation_id': 1, 'process_name': '/Users/itsafeature/Documents/MythicAgents/poseidon/Payload_Type/poseidon/poseidon/agent_code/poseidon_http.bin', 'payload': {'os': 'macOS', 'payloadtype': {'name': 'poseidon'}, 'description': 'Created by mythic_admin at 2023-03-24 16:07:20 Z', 'uuid': 'f6ddd8b4-830c-471a-8ad1-dc6fdd4da0d7'}}, {'architecture': '', 'description': 'Created by mythic_admin at 2023-03-23 23:04:02 Z', 'domain': '', 'external_ip': '', 'host': 'UNKNOWN', 'id': 63, 'display_id': 50, 'integrity_level': 2, 'ip': '[\"\"]', 'extra_info': '', 'sleep_info': '', 'pid': 0, 'os': '', 'user': '', 'agent_callback_id': 'c6f31a17-f0ec-48d8-ba4f-d6eba4309fa1', 'operation_id': 1, 'process_name': '', 'payload': {'os': 'macOS', 'payloadtype': {'name': 'apfell'}, 'description': 'Created by mythic_admin at 2023-03-23 23:04:02 Z', 'uuid': '5b145ae7-3cc1-4c23-ba4e-403610268a39'}}, {'architecture': '', 'description': 'Created by mythic_admin at 2023-03-31 16:36:05 Z', 'domain': '', 'external_ip': '', 'host': 'UNKNOWN', 'id': 64, 'display_id': 51, 'integrity_level': 2, 'ip': '[\"\"]', 'extra_info': '', 'sleep_info': '', 'pid': 0, 'os': '', 'user': '', 'agent_callback_id': '97b0476d-3143-4803-990f-7b2dc65948e7', 'operation_id': 1, 'process_name': '', 'payload': {'os': 'Windows', 'payloadtype': {'name': 'apollo'}, 'description': 'Created by mythic_admin at 2023-03-31 16:36:05 Z', 'uuid': 'fb3a83cb-2be7-431c-bdf6-5a978bcb7865'}}, {'architecture': 'x64', 'description': 'Created by mythic_admin at 2023-03-31 21:20:40 Z', 'domain': 'DESKTOP-F6NR9SF', 'external_ip': '', 'host': 'DESKTOP-F6NR9SF', 'id': 65, 'display_id': 52, 'integrity_level': 2, 'ip': '[\"192.168.53.133\"]', 'extra_info': '', 'sleep_info': '', 'pid': 3960, 'os': 'Windows 10 Pro 2009 6.2.9200.0', 'user': 'itsafeature', 'agent_callback_id': '2202db40-c258-4d59-bdf2-f0e4ca28bfc1', 'operation_id': 1, 'process_name': 'apollo', 'payload': {'os': 'Windows', 'payloadtype': {'name': 'apollo'}, 'description': 'Created by mythic_admin at 2023-03-31 21:20:40 Z', 'uuid': 'bf8cb9c4-592a-4159-9e4e-eb25e441988e'}}, {'architecture': 'x64', 'description': 'Created by mythic_admin at 2023-03-31 21:20:40 Z', 'domain': 'DESKTOP-F6NR9SF', 'external_ip': '', 'host': 'DESKTOP-F6NR9SF', 'id': 66, 'display_id': 53, 'integrity_level': 3, 'ip': '[\"192.168.53.133\"]', 'extra_info': '', 'sleep_info': '', 'pid': 7816, 'os': 'Windows 10 Pro 2009 6.2.9200.0', 'user': 'itsafeature', 'agent_callback_id': '139b88ea-bb68-41f3-b0b3-5690bc5802e1', 'operation_id': 1, 'process_name': 'apollo', 'payload': {'os': 'Windows', 'payloadtype': {'name': 'apollo'}, 'description': 'Created by mythic_admin at 2023-03-31 21:20:40 Z', 'uuid': 'bf8cb9c4-592a-4159-9e4e-eb25e441988e'}}, {'architecture': 'amd64', 'description': 'Created by mythic_admin at 2023-03-24 16:07:20 Z', 'domain': '', 'external_ip': '', 'host': 'SPOOKY.LOCAL', 'id': 67, 'display_id': 54, 'integrity_level': 2, 'ip': '[\"172.16.1.1\",\"192.168.0.129\",\"192.168.229.12\",\"192.168.53.1\",\"fe80::1\",\"fe80::147d:daff:feec:b464\",\"fe80::147d:daff:feec:b465\",\"fe80::1c35:a06e:18f0:73ba\",\"fe80::4c9:feff:fea3:454e\",\"fe80::4c9:feff:fea3:454e\",\"fe80::aede:48ff:fe00:1122\",\"fe80::cadd:3009:47b6:d01b\",\"fe80::ce81:b1c:bd2c:69e\",\"fe80::fab7:d6ad:650e:8c15\"]', 'extra_info': '', 'sleep_info': '', 'pid': 62710, 'os': 'Version 13.0.1 (Build 22A400)', 'user': 'itsafeature', 'agent_callback_id': 'eb60d42a-4747-4587-b107-8fcb1b908570', 'operation_id': 1, 'process_name': '/Users/itsafeature/Documents/MythicAgents/poseidon/Payload_Type/poseidon/poseidon/agent_code/poseidon_http.bin', 'payload': {'os': 'macOS', 'payloadtype': {'name': 'poseidon'}, 'description': 'Created by mythic_admin at 2023-03-24 16:07:20 Z', 'uuid': 'f6ddd8b4-830c-471a-8ad1-dc6fdd4da0d7'}}, {'architecture': 'amd64', 'description': 'Created by mythic_admin at 2023-03-24 16:07:20 Z', 'domain': '', 'external_ip': '', 'host': 'SPOOKY.LOCAL', 'id': 68, 'display_id': 55, 'integrity_level': 2, 'ip': '[\"172.16.1.1\",\"192.168.0.129\",\"192.168.229.12\",\"192.168.53.1\",\"fe80::1\",\"fe80::147d:daff:feec:b464\",\"fe80::147d:daff:feec:b465\",\"fe80::1c35:a06e:18f0:73ba\",\"fe80::4c9:feff:fea3:454e\",\"fe80::4c9:feff:fea3:454e\",\"fe80::aede:48ff:fe00:1122\",\"fe80::cadd:3009:47b6:d01b\",\"fe80::ce81:b1c:bd2c:69e\",\"fe80::fab7:d6ad:650e:8c15\"]', 'extra_info': '', 'sleep_info': '', 'pid': 62780, 'os': 'Version 13.0.1 (Build 22A400)', 'user': 'itsafeature', 'agent_callback_id': 'a9fc7972-f11e-4c42-ace6-c56d9cd1ee7f', 'operation_id': 1, 'process_name': '/Users/itsafeature/Documents/MythicAgents/poseidon/Payload_Type/poseidon/poseidon/agent_code/poseidon_http.bin', 'payload': {'os': 'macOS', 'payloadtype': {'name': 'poseidon'}, 'description': 'Created by mythic_admin at 2023-03-24 16:07:20 Z', 'uuid': 'f6ddd8b4-830c-471a-8ad1-dc6fdd4da0d7'}}, {'architecture': 'amd64', 'description': 'Created by mythic_admin at 2023-03-24 16:07:20 Z', 'domain': '', 'external_ip': '', 'host': 'SPOOKY.LOCAL', 'id': 69, 'display_id': 56, 'integrity_level': 2, 'ip': '[\"172.16.1.1\",\"192.168.0.129\",\"192.168.229.12\",\"192.168.53.1\",\"fe80::1\",\"fe80::147d:daff:feec:b464\",\"fe80::147d:daff:feec:b465\",\"fe80::1c35:a06e:18f0:73ba\",\"fe80::4c9:feff:fea3:454e\",\"fe80::4c9:feff:fea3:454e\",\"fe80::aede:48ff:fe00:1122\",\"fe80::cadd:3009:47b6:d01b\",\"fe80::ce81:b1c:bd2c:69e\",\"fe80::fab7:d6ad:650e:8c15\"]', 'extra_info': '', 'sleep_info': '', 'pid': 62908, 'os': 'Version 13.0.1 (Build 22A400)', 'user': 'itsafeature', 'agent_callback_id': '585f54cd-e29e-4fea-a186-16f6f5092b7c', 'operation_id': 1, 'process_name': '/Users/itsafeature/Documents/MythicAgents/poseidon/Payload_Type/poseidon/poseidon/agent_code/poseidon_http.bin', 'payload': {'os': 'macOS', 'payloadtype': {'name': 'poseidon'}, 'description': 'Created by mythic_admin at 2023-03-24 16:07:20 Z', 'uuid': 'f6ddd8b4-830c-471a-8ad1-dc6fdd4da0d7'}}, {'architecture': 'x64', 'description': 'Created by mythic_admin at 2023-03-31 21:20:40 Z', 'domain': 'DESKTOP-F6NR9SF', 'external_ip': '', 'host': 'DESKTOP-F6NR9SF', 'id': 70, 'display_id': 57, 'integrity_level': 2, 'ip': '[\"192.168.53.133\"]', 'extra_info': '', 'sleep_info': '', 'pid': 612, 'os': 'Windows 10 Pro 2009 6.2.9200.0', 'user': 'itsafeature', 'agent_callback_id': 'f9afde6f-f1d1-42d9-b420-2b6fb4977d9f', 'operation_id': 1, 'process_name': 'apollo', 'payload': {'os': 'Windows', 'payloadtype': {'name': 'apollo'}, 'description': 'Created by mythic_admin at 2023-03-31 21:20:40 Z', 'uuid': 'bf8cb9c4-592a-4159-9e4e-eb25e441988e'}}, {'architecture': 'amd64', 'description': 'Created by mythic_admin at 2023-03-24 16:07:20 Z', 'domain': '', 'external_ip': '', 'host': 'SPOOKY.LOCAL', 'id': 71, 'display_id': 58, 'integrity_level': 2, 'ip': '[\"172.16.1.1\",\"192.168.0.129\",\"192.168.229.12\",\"192.168.53.1\",\"fe80::1\",\"fe80::147d:daff:feec:b464\",\"fe80::147d:daff:feec:b465\",\"fe80::1c35:a06e:18f0:73ba\",\"fe80::4c9:feff:fea3:454e\",\"fe80::4c9:feff:fea3:454e\",\"fe80::aede:48ff:fe00:1122\",\"fe80::cadd:3009:47b6:d01b\",\"fe80::ce81:b1c:bd2c:69e\",\"fe80::fab7:d6ad:650e:8c15\"]', 'extra_info': '', 'sleep_info': 'Sleep interval updated to 10s\\nJitter updated to 0% \\n', 'pid': 64800, 'os': 'Version 13.0.1 (Build 22A400)', 'user': 'itsafeature', 'agent_callback_id': '4862301b-0616-4b7f-9cfb-d42fda6ce6c7', 'operation_id': 1, 'process_name': '/Users/itsafeature/Documents/MythicAgents/poseidon/Payload_Type/poseidon/poseidon/agent_code/poseidon_http.bin', 'payload': {'os': 'macOS', 'payloadtype': {'name': 'poseidon'}, 'description': 'Created by mythic_admin at 2023-03-24 16:07:20 Z', 'uuid': 'f6ddd8b4-830c-471a-8ad1-dc6fdd4da0d7'}}, {'architecture': 'x64', 'description': 'Created by mythic_admin at 2023-04-03 18:30:49 Z', 'domain': '', 'external_ip': '', 'host': 'SPOOKY.LOCAL', 'id': 72, 'display_id': 59, 'integrity_level': 2, 'ip': '[\"192.168.0.129\"]', 'extra_info': '', 'sleep_info': 'Sleep interval set to 10 and sleep jitter updated to 23', 'pid': 69067, 'os': 'Version 13.0.1 (Build 22A400)', 'user': 'itsafeature', 'agent_callback_id': '7aaa4d2c-3aa9-4cb5-abde-9e4b6b11f5d3', 'operation_id': 1, 'process_name': 'osascript', 'payload': {'os': 'macOS', 'payloadtype': {'name': 'apfell'}, 'description': 'Created by mythic_admin at 2023-04-03 18:30:49 Z', 'uuid': 'cd8e8047-3d33-40ee-8fcd-19b1a6aeddd3'}}, {'architecture': 'amd64', 'description': 'Created by mythic_admin at 2023-04-03 18:47:49 Z', 'domain': '', 'external_ip': '', 'host': 'SPOOKY.LOCAL', 'id': 73, 'display_id': 60, 'integrity_level': 2, 'ip': '[\"172.16.1.1\",\"192.168.0.129\",\"192.168.229.12\",\"192.168.53.1\",\"fe80::1\",\"fe80::147d:daff:feec:b464\",\"fe80::147d:daff:feec:b465\",\"fe80::1c35:a06e:18f0:73ba\",\"fe80::4c9:feff:fea3:454e\",\"fe80::4c9:feff:fea3:454e\",\"fe80::aede:48ff:fe00:1122\",\"fe80::cadd:3009:47b6:d01b\",\"fe80::ce81:b1c:bd2c:69e\",\"fe80::fab7:d6ad:650e:8c15\"]', 'extra_info': '', 'sleep_info': '', 'pid': 70104, 'os': 'Version 13.0.1 (Build 22A400)', 'user': 'itsafeature', 'agent_callback_id': 'a36ac4fb-1a08-440e-ba94-d4bb25be79f9', 'operation_id': 1, 'process_name': '/Users/itsafeature/Documents/MythicAgents/poseidon/Payload_Type/poseidon/poseidon/agent_code/poseidon_poseidon_tcp.bin', 'payload': {'os': 'macOS', 'payloadtype': {'name': 'poseidon'}, 'description': 'Created by mythic_admin at 2023-04-03 18:47:49 Z', 'uuid': '81c0ecda-0ad8-4d0f-9a52-fc40a58694ab'}}]\n"
     ]
    }
   ],
   "source": [
    "callbacks = await mythic.get_all_active_callbacks(mythic=mythic_instance)\n",
    "print(callbacks)"
   ]
  },
  {
   "cell_type": "code",
   "execution_count": 9,
   "id": "6b6b640e-9cf7-452b-86da-ce63526b3296",
   "metadata": {
    "tags": []
   },
   "outputs": [
    {
     "name": "stdout",
     "output_type": "stream",
     "text": [
      "{'task_stream': [{'callback': {'id': 71, 'display_id': 58}, 'id': 407, 'display_id': 372, 'operator': {'username': 'mythic_admin'}, 'status': 'OPSEC Post Check Running...', 'completed': False, 'original_params': 'whoami', 'display_params': 'whoami', 'timestamp': '2023-04-03T21:42:59.970053', 'command_name': 'shell', 'tasks': [], 'token': None}]}\n",
      "{'task_stream': [{'callback': {'id': 71, 'display_id': 58}, 'id': 407, 'display_id': 372, 'operator': {'username': 'mythic_admin'}, 'status': 'completed', 'completed': True, 'original_params': 'whoami', 'display_params': 'whoami', 'timestamp': '2023-04-03T21:43:00.016709', 'command_name': 'shell', 'tasks': [], 'token': None}]}\n",
      "resp: b'itsafeature\\n'\n",
      "\n",
      "{'task_stream': [{'callback': {'id': 71, 'display_id': 58}, 'id': 408, 'display_id': 373, 'operator': {'username': 'mythic_admin'}, 'status': 'OPSEC Post Check Running...', 'completed': False, 'original_params': 'whoami', 'display_params': 'whoami', 'timestamp': '2023-04-03T21:43:01.10275', 'command_name': 'shell', 'tasks': [], 'token': None}]}\n",
      "{'task_stream': [{'callback': {'id': 71, 'display_id': 58}, 'id': 408, 'display_id': 373, 'operator': {'username': 'mythic_admin'}, 'status': 'completed', 'completed': True, 'original_params': 'whoami', 'display_params': 'whoami', 'timestamp': '2023-04-03T21:43:01.145706', 'command_name': 'shell', 'tasks': [], 'token': None}]}\n",
      "b'itsafeature\\n'\n",
      "{'task_stream': [{'callback': {'id': 71, 'display_id': 58}, 'id': 409, 'display_id': 374, 'operator': {'username': 'mythic_admin'}, 'status': 'OPSEC Post Check Running...', 'completed': False, 'original_params': 'whoami', 'display_params': 'whoami', 'timestamp': '2023-04-03T21:43:02.231527', 'command_name': 'shell', 'tasks': [], 'token': None}]}\n",
      "{'task_stream': [{'callback': {'id': 71, 'display_id': 58}, 'id': 409, 'display_id': 374, 'operator': {'username': 'mythic_admin'}, 'status': 'completed', 'completed': True, 'original_params': 'whoami', 'display_params': 'whoami', 'timestamp': '2023-04-03T21:43:02.289664', 'command_name': 'shell', 'tasks': [], 'token': None}]}\n",
      "b'itsafeature\\n'\n",
      "{'task_stream': [{'callback': {'id': 71, 'display_id': 58}, 'id': 410, 'display_id': 375, 'operator': {'username': 'mythic_admin'}, 'status': 'OPSEC Post Check Running...', 'completed': False, 'original_params': 'whoami', 'display_params': 'whoami', 'timestamp': '2023-04-03T21:43:03.337614', 'command_name': 'shell', 'tasks': [], 'token': None}]}\n",
      "{'task_stream': [{'callback': {'id': 71, 'display_id': 58}, 'id': 410, 'display_id': 375, 'operator': {'username': 'mythic_admin'}, 'status': 'completed', 'completed': True, 'original_params': 'whoami', 'display_params': 'whoami', 'timestamp': '2023-04-03T21:43:03.375754', 'command_name': 'shell', 'tasks': [], 'token': None}]}\n",
      "b'itsafeature\\n'\n",
      "{'task_stream': [{'callback': {'id': 71, 'display_id': 58}, 'id': 411, 'display_id': 376, 'operator': {'username': 'mythic_admin'}, 'status': 'OPSEC Post Check Running...', 'completed': False, 'original_params': 'whoami', 'display_params': 'whoami', 'timestamp': '2023-04-03T21:43:04.447067', 'command_name': 'shell', 'tasks': [], 'token': None}]}\n",
      "{'task_stream': [{'callback': {'id': 71, 'display_id': 58}, 'id': 411, 'display_id': 376, 'operator': {'username': 'mythic_admin'}, 'status': 'completed', 'completed': True, 'original_params': 'whoami', 'display_params': 'whoami', 'timestamp': '2023-04-03T21:43:04.487775', 'command_name': 'shell', 'tasks': [], 'token': None}]}\n",
      "b'itsafeature\\n'\n",
      "{'task_stream': [{'callback': {'id': 71, 'display_id': 58}, 'id': 412, 'display_id': 377, 'operator': {'username': 'mythic_admin'}, 'status': 'OPSEC Post Check Running...', 'completed': False, 'original_params': 'whoami', 'display_params': 'whoami', 'timestamp': '2023-04-03T21:43:05.564058', 'command_name': 'shell', 'tasks': [], 'token': None}]}\n",
      "{'task_stream': [{'callback': {'id': 71, 'display_id': 58}, 'id': 412, 'display_id': 377, 'operator': {'username': 'mythic_admin'}, 'status': 'completed', 'completed': True, 'original_params': 'whoami', 'display_params': 'whoami', 'timestamp': '2023-04-03T21:43:05.602625', 'command_name': 'shell', 'tasks': [], 'token': None}]}\n",
      "b'itsafeature\\n'\n",
      "{'task_stream': [{'callback': {'id': 71, 'display_id': 58}, 'id': 413, 'display_id': 378, 'operator': {'username': 'mythic_admin'}, 'status': 'OPSEC Post Check Running...', 'completed': False, 'original_params': 'whoami', 'display_params': 'whoami', 'timestamp': '2023-04-03T21:43:06.686825', 'command_name': 'shell', 'tasks': [], 'token': None}]}\n",
      "{'task_stream': [{'callback': {'id': 71, 'display_id': 58}, 'id': 413, 'display_id': 378, 'operator': {'username': 'mythic_admin'}, 'status': 'completed', 'completed': True, 'original_params': 'whoami', 'display_params': 'whoami', 'timestamp': '2023-04-03T21:43:06.73018', 'command_name': 'shell', 'tasks': [], 'token': None}]}\n",
      "b'itsafeature\\n'\n",
      "{'task_stream': [{'callback': {'id': 71, 'display_id': 58}, 'id': 414, 'display_id': 379, 'operator': {'username': 'mythic_admin'}, 'status': 'OPSEC Post Check Running...', 'completed': False, 'original_params': 'whoami', 'display_params': 'whoami', 'timestamp': '2023-04-03T21:43:07.79165', 'command_name': 'shell', 'tasks': [], 'token': None}]}\n",
      "{'task_stream': [{'callback': {'id': 71, 'display_id': 58}, 'id': 414, 'display_id': 379, 'operator': {'username': 'mythic_admin'}, 'status': 'completed', 'completed': True, 'original_params': 'whoami', 'display_params': 'whoami', 'timestamp': '2023-04-03T21:43:07.838922', 'command_name': 'shell', 'tasks': [], 'token': None}]}\n",
      "b'itsafeature\\n'\n",
      "{'task_stream': [{'callback': {'id': 71, 'display_id': 58}, 'id': 415, 'display_id': 380, 'operator': {'username': 'mythic_admin'}, 'status': 'completed', 'completed': True, 'original_params': 'whoami', 'display_params': 'whoami', 'timestamp': '2023-04-03T21:43:08.942788', 'command_name': 'shell', 'tasks': [], 'token': None}]}\n",
      "b'itsafeature\\n'\n",
      "{'task_stream': [{'callback': {'id': 71, 'display_id': 58}, 'id': 416, 'display_id': 381, 'operator': {'username': 'mythic_admin'}, 'status': 'processing', 'completed': False, 'original_params': 'whoami', 'display_params': 'whoami', 'timestamp': '2023-04-03T21:43:09.783438', 'command_name': 'shell', 'tasks': [], 'token': None}]}\n",
      "{'task_stream': [{'callback': {'id': 71, 'display_id': 58}, 'id': 416, 'display_id': 381, 'operator': {'username': 'mythic_admin'}, 'status': 'completed', 'completed': True, 'original_params': 'whoami', 'display_params': 'whoami', 'timestamp': '2023-04-03T21:43:09.805117', 'command_name': 'shell', 'tasks': [], 'token': None}]}\n",
      "b'itsafeature\\n'\n"
     ]
    }
   ],
   "source": [
    "resp = await mythic.issue_task_and_waitfor_task_output(\n",
    "        mythic=mythic_instance,\n",
    "        command_name=\"shell\",\n",
    "        parameters=\"whoami\",\n",
    "        callback_display_id=58,\n",
    "        timeout=60,\n",
    ")\n",
    "print(f\"resp: {resp}\\n\")"
   ]
  },
  {
   "cell_type": "code",
   "execution_count": null,
   "id": "a73a7c8f-24be-43df-80c0-394238ddb04f",
   "metadata": {},
   "outputs": [],
   "source": []
  }
 ],
 "metadata": {
  "kernelspec": {
   "display_name": "Python 3 (ipykernel)",
   "language": "python",
   "name": "python3"
  },
  "language_info": {
   "codemirror_mode": {
    "name": "ipython",
    "version": 3
   },
   "file_extension": ".py",
   "mimetype": "text/x-python",
   "name": "python",
   "nbconvert_exporter": "python",
   "pygments_lexer": "ipython3",
   "version": "3.10.10"
  }
 },
 "nbformat": 4,
 "nbformat_minor": 5
}
